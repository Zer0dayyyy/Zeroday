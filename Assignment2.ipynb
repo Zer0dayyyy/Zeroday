{
  "nbformat": 4,
  "nbformat_minor": 0,
  "metadata": {
    "colab": {
      "provenance": [],
      "authorship_tag": "ABX9TyNf/A3VFt2xn6Y0FYV2YLkM"
    },
    "kernelspec": {
      "name": "python3",
      "display_name": "Python 3"
    },
    "language_info": {
      "name": "python"
    }
  },
  "cells": [
    {
      "cell_type": "code",
      "source": [
        "product_details=[]\n",
        "customer_details=[]\n",
        "supplier_details=dict()\n",
        "gender=dict()\n",
        "import csv\n",
        "\n",
        "# Read the data from CSV\n",
        "sales_data = []\n",
        "with open('/content/sales.csv', 'r') as file:\n",
        "    reader = csv.reader(file)\n",
        "    next(reader)  # Skip the header row\n",
        "    for row in reader:\n",
        "               product_details.append(row[1])\n",
        "               customer_details.append(row[3])\n",
        "               supplier_details.update({row[0]:row[2]})\n",
        "               gender.update({row[3]:row[4]})\n",
        "               sales_data.append((product_details, supplier_details, customer_details, gender))\n",
        "# Find the most popular product for sale.\n",
        "sorted_product = sorted(product_details,key=len, reverse=True)\n",
        "popular_product = sorted_product[0]\n",
        "print(\"Popular product is:\",popular_product)\n",
        "#Find the best supplier for sales.\n",
        "sorted_seller = sorted(supplier_details.items(), key=lambda x: x[1], reverse=True)\n",
        "max_item = sorted_seller[0]\n",
        "best_seller = max_item[1]\n",
        "print(\"Best sells man is: \",best_seller)\n",
        "#Find the customer who buys most of the products.\n",
        "sorted_customer = sorted(customer_details,key=len, reverse=True)\n",
        "popular_customer = sorted_customer[0]\n",
        "print(\"Popular customer is:\",popular_customer)\n",
        "#Find the number of customers who are 'Female'\n",
        "sorted_gender = sorted(gender.values(), reverse=True)\n",
        "female_count = sorted_gender.count(\"Female\")\n",
        "print(\"Number of females are: \",female_count)"
      ],
      "metadata": {
        "colab": {
          "base_uri": "https://localhost:8080/"
        },
        "id": "Dkyp9tz57tcT",
        "outputId": "ce901f07-e5c4-41c8-a8b5-8a46a59cf146"
      },
      "execution_count": null,
      "outputs": [
        {
          "output_type": "stream",
          "name": "stdout",
          "text": [
            "Popular product is: Lenovo Laptop\n",
            "Best sells man is:  Vijay Sales\n",
            "Popular customer is: Kaustubh Mahajan\n",
            "Number of females are:  2\n"
          ]
        }
      ]
    },
    {
      "cell_type": "code",
      "source": [],
      "metadata": {
        "id": "zUdrvhDF7t9l"
      },
      "execution_count": null,
      "outputs": []
    }
  ]
}